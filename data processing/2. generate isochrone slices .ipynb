{
 "cells": [
  {
   "cell_type": "code",
   "execution_count": 15,
   "id": "50a4ee43-1135-4838-a99f-2eaec20d1b7f",
   "metadata": {
    "execution": {
     "iopub.execute_input": "2024-03-07T17:13:03.889698Z",
     "iopub.status.busy": "2024-03-07T17:13:03.874068Z",
     "iopub.status.idle": "2024-03-07T17:13:03.901763Z",
     "shell.execute_reply": "2024-03-07T17:13:03.901763Z",
     "shell.execute_reply.started": "2024-03-07T17:13:03.889698Z"
    }
   },
   "outputs": [],
   "source": [
    "import os\n",
    "import configparser\n",
    "\n",
    "import numpy as np\n",
    "import geopandas as gpd\n",
    "from shapely.geometry import Point, Polygon\n",
    "import fiona\n",
    "\n",
    "import pandas as pd\n",
    "#import matplotlib.pyplot as plt\n",
    "#import matplotlib.patches as mpatches\n",
    "\n",
    "import requests\n",
    "import json"
   ]
  },
  {
   "cell_type": "code",
   "execution_count": 16,
   "id": "79327b3f-7616-4525-9c5a-b6f36da5f412",
   "metadata": {
    "execution": {
     "iopub.execute_input": "2024-03-07T17:13:05.576437Z",
     "iopub.status.busy": "2024-03-07T17:13:05.576437Z",
     "iopub.status.idle": "2024-03-07T17:13:05.595415Z",
     "shell.execute_reply": "2024-03-07T17:13:05.595415Z",
     "shell.execute_reply.started": "2024-03-07T17:13:05.576437Z"
    }
   },
   "outputs": [],
   "source": [
    "project_root = os.path.abspath(os.getcwd())\n",
    "root = os.path.abspath(os.path.join(os.getcwd(), \"..\"))\n",
    "config_file =  os.path.join(root, \"config.cfg\")\n",
    "\n",
    "# geodata for shapefiles\n",
    "config = configparser.ConfigParser()\n",
    "config.read(config_file)\n",
    "gdata_root = config[\"geodata\"][\"path\"]"
   ]
  },
  {
   "cell_type": "code",
   "execution_count": 71,
   "id": "e5069750-9c9a-407b-8467-986cc1cd58fe",
   "metadata": {
    "execution": {
     "iopub.execute_input": "2024-03-07T18:32:47.847885Z",
     "iopub.status.busy": "2024-03-07T18:32:47.847885Z",
     "iopub.status.idle": "2024-03-07T18:32:48.079954Z",
     "shell.execute_reply": "2024-03-07T18:32:48.079954Z",
     "shell.execute_reply.started": "2024-03-07T18:32:47.847885Z"
    }
   },
   "outputs": [],
   "source": [
    "#load berlin borders\n",
    "bezirke= gpd.GeoDataFrame.from_file(os.path.join(gdata_root,'Berlin', 'bezirke.gpkg'), crs ='EPSG:25833').to_crs('EPSG:4326')\n",
    "berlin_borders=gpd.GeoDataFrame(geometry=[bezirke.unary_union], crs ='EPSG:4326')"
   ]
  },
  {
   "cell_type": "code",
   "execution_count": 18,
   "id": "640739a7-6cca-4899-9469-dc44de793363",
   "metadata": {
    "execution": {
     "iopub.execute_input": "2024-03-07T17:13:09.884266Z",
     "iopub.status.busy": "2024-03-07T17:13:09.883268Z",
     "iopub.status.idle": "2024-03-07T17:13:59.806854Z",
     "shell.execute_reply": "2024-03-07T17:13:59.806854Z",
     "shell.execute_reply.started": "2024-03-07T17:13:09.884266Z"
    }
   },
   "outputs": [],
   "source": [
    "#load isochrones\n",
    "iso = []\n",
    "fname = os.path.join(gdata_root,'Berlin', 'water_wells_isochrones3600.gpkg')\n",
    "layers = fiona.listlayers(fname)\n",
    "for layer in layers:\n",
    "    tmp_df = gpd.GeoDataFrame.from_file(fname, crs ='EPSG:4326',layer=layer)\n",
    "    iso.append(tmp_df)        \n",
    "\n",
    "iso = pd.concat(iso, axis=0, ignore_index=True)"
   ]
  },
  {
   "cell_type": "code",
   "execution_count": 19,
   "id": "66d77c17-ccc1-4259-8c11-532b03f0a60f",
   "metadata": {
    "execution": {
     "iopub.execute_input": "2024-03-07T17:13:59.809863Z",
     "iopub.status.busy": "2024-03-07T17:13:59.808861Z",
     "iopub.status.idle": "2024-03-07T17:14:02.737504Z",
     "shell.execute_reply": "2024-03-07T17:14:02.737504Z",
     "shell.execute_reply.started": "2024-03-07T17:13:59.809863Z"
    }
   },
   "outputs": [],
   "source": [
    "#load wells\n",
    "wells= gpd.GeoDataFrame.from_file(os.path.join(gdata_root,'Berlin', 'water_wells.gpkg'), crs ='EPSG:4326')"
   ]
  },
  {
   "cell_type": "code",
   "execution_count": 20,
   "id": "a8669f5b-ca34-479f-9923-5aba95307f12",
   "metadata": {
    "execution": {
     "iopub.execute_input": "2024-03-07T17:14:02.737504Z",
     "iopub.status.busy": "2024-03-07T17:14:02.737504Z",
     "iopub.status.idle": "2024-03-07T17:14:02.762513Z",
     "shell.execute_reply": "2024-03-07T17:14:02.762513Z",
     "shell.execute_reply.started": "2024-03-07T17:14:02.737504Z"
    }
   },
   "outputs": [
    {
     "data": {
      "text/plain": [
       "1978"
      ]
     },
     "execution_count": 20,
     "metadata": {},
     "output_type": "execute_result"
    }
   ],
   "source": [
    "#use only suitable wells, making a reasonably broad assumption\n",
    "suitable_wells=wells[(wells['drinking_water:legal']=='yes') | \n",
    "                     (wells['drinking_water']=='yes') |\n",
    "                     (wells['emergency']=='drinking_water') |\n",
    "                     (wells['network']=='Berliner Straßenbrunnen')]\n",
    "len(suitable_wells)"
   ]
  },
  {
   "cell_type": "code",
   "execution_count": 21,
   "id": "85232b70-7d38-45d0-a7b4-748ca4e267c1",
   "metadata": {
    "execution": {
     "iopub.execute_input": "2024-03-07T17:14:02.762513Z",
     "iopub.status.busy": "2024-03-07T17:14:02.762513Z",
     "iopub.status.idle": "2024-03-07T17:14:02.818615Z",
     "shell.execute_reply": "2024-03-07T17:14:02.818615Z",
     "shell.execute_reply.started": "2024-03-07T17:14:02.762513Z"
    },
    "scrolled": true
   },
   "outputs": [],
   "source": [
    "#select only isochrones belonging to these wells:\n",
    "iso = iso[iso.id.isin(suitable_wells.id)]"
   ]
  },
  {
   "cell_type": "code",
   "execution_count": 22,
   "id": "ddc0e28f-2f8f-48b5-9bca-2beb303771d6",
   "metadata": {
    "execution": {
     "iopub.execute_input": "2024-03-07T17:14:02.818615Z",
     "iopub.status.busy": "2024-03-07T17:14:02.818615Z",
     "iopub.status.idle": "2024-03-07T17:14:22.042282Z",
     "shell.execute_reply": "2024-03-07T17:14:22.042282Z",
     "shell.execute_reply.started": "2024-03-07T17:14:02.818615Z"
    }
   },
   "outputs": [],
   "source": [
    "#now merge individual geometries\n",
    "unions=[]\n",
    "for time in iso.time.unique():\n",
    "    df_tmp=pd.DataFrame(data={'time':[time],'geometry':[iso[iso.time==time].unary_union]})\n",
    "    unions.append(df_tmp)\n",
    "unions=pd.concat(unions, ignore_index=True).sort_values(by='time').reset_index(drop=True)\n",
    "unions = gpd.GeoDataFrame(unions, crs ='EPSG:4326', geometry=\"geometry\")"
   ]
  },
  {
   "cell_type": "code",
   "execution_count": 24,
   "id": "75c6806f-778d-4db5-b946-2bee1eb72f69",
   "metadata": {
    "execution": {
     "iopub.execute_input": "2024-03-07T17:16:30.775653Z",
     "iopub.status.busy": "2024-03-07T17:16:30.775653Z",
     "iopub.status.idle": "2024-03-07T17:16:32.815229Z",
     "shell.execute_reply": "2024-03-07T17:16:32.815229Z",
     "shell.execute_reply.started": "2024-03-07T17:16:30.775653Z"
    }
   },
   "outputs": [],
   "source": [
    "#get the isochrone slices through the magic of vector operations\n",
    "unions['prev_geometry'] = unions['geometry'].shift(1)\n",
    "unions['geometry_difference'] = unions.apply(lambda row: row['geometry'].difference(row['prev_geometry']) if pd.notnull(row['prev_geometry']) else row['geometry'], axis=1)\n",
    "unions.drop('prev_geometry', axis=1, inplace=True)"
   ]
  },
  {
   "cell_type": "code",
   "execution_count": null,
   "id": "36f29ad3-7923-4eb0-b4ef-1cd0ab5f933d",
   "metadata": {
    "scrolled": true
   },
   "outputs": [],
   "source": [
    "#huh, it was too naive to think that works that easy - there are still regions where different isochrones overlap\n",
    "unions.geometry_difference.explore()"
   ]
  },
  {
   "cell_type": "code",
   "execution_count": 26,
   "id": "9cee29e4-d102-4bd7-9465-2f794bb7e6f9",
   "metadata": {
    "execution": {
     "iopub.execute_input": "2024-03-07T17:16:38.213945Z",
     "iopub.status.busy": "2024-03-07T17:16:38.213945Z",
     "iopub.status.idle": "2024-03-07T17:19:08.769592Z",
     "shell.execute_reply": "2024-03-07T17:19:08.769592Z",
     "shell.execute_reply.started": "2024-03-07T17:16:38.213945Z"
    }
   },
   "outputs": [
    {
     "name": "stderr",
     "output_type": "stream",
     "text": [
      "C:\\temp\\ipykernel_3628\\3244895051.py:2: FutureWarning: `unary_union` returned None due to all-None GeoSeries. In future, `unary_union` will return 'GEOMETRYCOLLECTION EMPTY' instead.\n",
      "  unions['geometry_difference'] = unions.apply(lambda row: row['geometry'].difference(unions[unions.time<row.time].unary_union) if pd.notnull(unions[unions.time<row.time].unary_union) else row['geometry'], axis=1)\n"
     ]
    }
   ],
   "source": [
    "#now we look for a difference between a given timeslice and all isochrones with a shorter time...\n",
    "unions['geometry_difference'] = unions.apply(lambda row: row['geometry'].difference(unions[unions.time<row.time].unary_union) if pd.notnull(unions[unions.time<row.time].unary_union) else row['geometry'], axis=1)"
   ]
  },
  {
   "cell_type": "code",
   "execution_count": null,
   "id": "53b290d3-5a6e-4524-8521-8b5cda938739",
   "metadata": {
    "scrolled": true
   },
   "outputs": [],
   "source": [
    "#huh, it was too naive to think that works that easy - there are still regions where different isochrones overlap\n",
    "unions.geometry_difference.explore()"
   ]
  },
  {
   "cell_type": "code",
   "execution_count": 30,
   "id": "d3b40ebd-5aae-444b-ad9e-f3f0d6cdd72c",
   "metadata": {
    "execution": {
     "iopub.execute_input": "2024-03-07T17:19:36.279175Z",
     "iopub.status.busy": "2024-03-07T17:19:36.279175Z",
     "iopub.status.idle": "2024-03-07T17:19:38.411286Z",
     "shell.execute_reply": "2024-03-07T17:19:38.411286Z",
     "shell.execute_reply.started": "2024-03-07T17:19:36.279175Z"
    }
   },
   "outputs": [
    {
     "data": {
      "text/html": [
       "<div>\n",
       "<style scoped>\n",
       "    .dataframe tbody tr th:only-of-type {\n",
       "        vertical-align: middle;\n",
       "    }\n",
       "\n",
       "    .dataframe tbody tr th {\n",
       "        vertical-align: top;\n",
       "    }\n",
       "\n",
       "    .dataframe thead th {\n",
       "        text-align: right;\n",
       "    }\n",
       "</style>\n",
       "<table border=\"1\" class=\"dataframe\">\n",
       "  <thead>\n",
       "    <tr style=\"text-align: right;\">\n",
       "      <th></th>\n",
       "      <th>time</th>\n",
       "      <th>geometry</th>\n",
       "      <th>geometry_difference</th>\n",
       "    </tr>\n",
       "  </thead>\n",
       "  <tbody>\n",
       "    <tr>\n",
       "      <th>0</th>\n",
       "      <td>60</td>\n",
       "      <td>MULTIPOLYGON (((13.12865 52.38867, 13.12968 52...</td>\n",
       "      <td>MULTIPOLYGON (((13.12865 52.38867, 13.12968 52...</td>\n",
       "    </tr>\n",
       "    <tr>\n",
       "      <th>1</th>\n",
       "      <td>120</td>\n",
       "      <td>MULTIPOLYGON (((13.12784 52.38769, 13.12828 52...</td>\n",
       "      <td>MULTIPOLYGON (((13.12828 52.38866, 13.13001 52...</td>\n",
       "    </tr>\n",
       "    <tr>\n",
       "      <th>2</th>\n",
       "      <td>180</td>\n",
       "      <td>MULTIPOLYGON (((13.12858 52.38621, 13.12810 52...</td>\n",
       "      <td>MULTIPOLYGON (((13.12810 52.38641, 13.12732 52...</td>\n",
       "    </tr>\n",
       "    <tr>\n",
       "      <th>3</th>\n",
       "      <td>240</td>\n",
       "      <td>MULTIPOLYGON (((13.12879 52.38544, 13.12853 52...</td>\n",
       "      <td>MULTIPOLYGON (((13.12853 52.38544, 13.12708 52...</td>\n",
       "    </tr>\n",
       "    <tr>\n",
       "      <th>4</th>\n",
       "      <td>300</td>\n",
       "      <td>MULTIPOLYGON (((13.12590 52.38579, 13.12603 52...</td>\n",
       "      <td>MULTIPOLYGON (((13.12603 52.38613, 13.12828 52...</td>\n",
       "    </tr>\n",
       "  </tbody>\n",
       "</table>\n",
       "</div>"
      ],
      "text/plain": [
       "   time                                           geometry  \\\n",
       "0    60  MULTIPOLYGON (((13.12865 52.38867, 13.12968 52...   \n",
       "1   120  MULTIPOLYGON (((13.12784 52.38769, 13.12828 52...   \n",
       "2   180  MULTIPOLYGON (((13.12858 52.38621, 13.12810 52...   \n",
       "3   240  MULTIPOLYGON (((13.12879 52.38544, 13.12853 52...   \n",
       "4   300  MULTIPOLYGON (((13.12590 52.38579, 13.12603 52...   \n",
       "\n",
       "                                 geometry_difference  \n",
       "0  MULTIPOLYGON (((13.12865 52.38867, 13.12968 52...  \n",
       "1  MULTIPOLYGON (((13.12828 52.38866, 13.13001 52...  \n",
       "2  MULTIPOLYGON (((13.12810 52.38641, 13.12732 52...  \n",
       "3  MULTIPOLYGON (((13.12853 52.38544, 13.12708 52...  \n",
       "4  MULTIPOLYGON (((13.12603 52.38613, 13.12828 52...  "
      ]
     },
     "execution_count": 30,
     "metadata": {},
     "output_type": "execute_result"
    }
   ],
   "source": [
    "unions.head()"
   ]
  },
  {
   "cell_type": "code",
   "execution_count": 77,
   "id": "385e405f-07b2-45e9-bbd5-50ec91513a20",
   "metadata": {
    "execution": {
     "iopub.execute_input": "2024-03-07T19:05:25.937726Z",
     "iopub.status.busy": "2024-03-07T19:05:25.937726Z",
     "iopub.status.idle": "2024-03-07T19:05:29.773167Z",
     "shell.execute_reply": "2024-03-07T19:05:29.773167Z",
     "shell.execute_reply.started": "2024-03-07T19:05:25.937726Z"
    }
   },
   "outputs": [],
   "source": [
    "slices=gpd.GeoDataFrame(data={'time':unions.time,'geometry':unions.geometry_difference},crs='EPSG:4326')\n",
    "#cut on the city border\n",
    "slices=slices.overlay(berlin_borders,how='intersection')"
   ]
  },
  {
   "cell_type": "code",
   "execution_count": 79,
   "id": "c20d1fef-5a9d-4162-b458-a50c3e5b60db",
   "metadata": {
    "execution": {
     "iopub.execute_input": "2024-03-07T19:05:56.483693Z",
     "iopub.status.busy": "2024-03-07T19:05:56.483693Z",
     "iopub.status.idle": "2024-03-07T19:06:03.270999Z",
     "shell.execute_reply": "2024-03-07T19:06:03.270999Z",
     "shell.execute_reply.started": "2024-03-07T19:05:56.483693Z"
    }
   },
   "outputs": [],
   "source": [
    "#save data\n",
    "slices.to_file(os.path.join(gdata_root,'Berlin', 'water_wells_isochrones_slices.gpkg'), driver='GPKG')\n",
    "slices[[\"time\", \"geometry\"]].to_crs(4326).to_file(os.path.join(gdata_root,'Berlin', 'water_wells_isochrones_slices.json'))\n",
    "suitable_wells[[\"id\", \"geometry\"]].to_crs(4326).to_file(os.path.join(gdata_root,'Berlin', 'suitable_wells.json'))"
   ]
  }
 ],
 "metadata": {
  "kernelspec": {
   "display_name": "Python [conda env:mapping]",
   "language": "python",
   "name": "conda-env-mapping-py"
  },
  "language_info": {
   "codemirror_mode": {
    "name": "ipython",
    "version": 3
   },
   "file_extension": ".py",
   "mimetype": "text/x-python",
   "name": "python",
   "nbconvert_exporter": "python",
   "pygments_lexer": "ipython3",
   "version": "3.12.1"
  }
 },
 "nbformat": 4,
 "nbformat_minor": 5
}
